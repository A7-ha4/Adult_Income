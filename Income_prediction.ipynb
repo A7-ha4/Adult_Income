{
 "cells": [
  {
   "cell_type": "markdown",
   "id": "fcaeb2dc-110f-4532-92c9-2001898da28f",
   "metadata": {},
   "source": [
    "# Income Classification Using Machine Learning\n",
    "\n",
    "This project uses the Adult Income dataset to predict whether a person earns more than 50K per year based on various demographic attributes. \n",
    "\n",
    "The steps include:\n",
    "- Data loading and exploration\n",
    "- Data preprocessing\n",
    "- Handling missing values\n",
    "- Feature transformation\n",
    "- Handling class imbalance using SMOTE\n",
    "- Building and tuning models (LightGBM, GridSearchCV)\n",
    "- Evaluation using classification metrics\n"
   ]
  },
  {
   "cell_type": "code",
   "execution_count": null,
   "id": "f9e321d0-2e9e-46de-a60c-2f07aa49ee30",
   "metadata": {},
   "outputs": [],
   "source": [
    "import pandas as pd"
   ]
  },
  {
   "cell_type": "code",
   "execution_count": null,
   "id": "3887228d-6c3a-4773-9aa0-a333f7b83afe",
   "metadata": {},
   "outputs": [],
   "source": [
    "import seaborn as sns"
   ]
  },
  {
   "cell_type": "code",
   "execution_count": null,
   "id": "b21634b1-bef7-4ff3-bd28-ad68e4fd8d04",
   "metadata": {},
   "outputs": [],
   "source": [
    "import numpy as np"
   ]
  },
  {
   "cell_type": "code",
   "execution_count": null,
   "id": "2eb97d5e-70cb-4132-bc32-1029816f801e",
   "metadata": {},
   "outputs": [],
   "source": [
    "from matplotlib import pyplot as plt"
   ]
  },
  {
   "cell_type": "markdown",
   "id": "f627aa9c-9010-4730-bfe0-2edda70880f6",
   "metadata": {},
   "source": [
    "# Load the Dataset"
   ]
  },
  {
   "cell_type": "code",
   "execution_count": null,
   "id": "12e56bb8-46b9-43b8-84eb-ca41bb6d2cb9",
   "metadata": {},
   "outputs": [],
   "source": [
    "df = pd.read_csv(\"adult income1.csv\")"
   ]
  },
  {
   "cell_type": "markdown",
   "id": "eea5e8a1-4227-47c5-88fe-8225a1242218",
   "metadata": {},
   "source": [
    "# Initial Exploration (df.head(), df.info(), df.describe())"
   ]
  },
  {
   "cell_type": "code",
   "execution_count": null,
   "id": "80039fa3-f0e3-4d6f-b5e1-d708a5cf284a",
   "metadata": {},
   "outputs": [],
   "source": [
    "df.head(5)"
   ]
  },
  {
   "cell_type": "code",
   "execution_count": null,
   "id": "dbcae751-c7b1-4fc0-80ad-14df9f04efe7",
   "metadata": {},
   "outputs": [],
   "source": [
    "df.info()"
   ]
  },
  {
   "cell_type": "code",
   "execution_count": null,
   "id": "e6dbc3f0-77c3-41c1-a0aa-59f8dc9098b7",
   "metadata": {},
   "outputs": [],
   "source": [
    "df.describe()"
   ]
  },
  {
   "cell_type": "markdown",
   "id": "1d89e059-4653-4a3f-b8a7-b91ae4d15ab4",
   "metadata": {},
   "source": [
    "# Missing Values + Data Cleaning"
   ]
  },
  {
   "cell_type": "code",
   "execution_count": null,
   "id": "f0a9c5ee-7f28-46bf-8fd3-2339c322e971",
   "metadata": {},
   "outputs": [],
   "source": [
    "df.isnull().sum()"
   ]
  },
  {
   "cell_type": "code",
   "execution_count": null,
   "id": "cbb687d3-ed55-4263-93e2-ff3cabe4a88a",
   "metadata": {},
   "outputs": [],
   "source": [
    "df.shape"
   ]
  },
  {
   "cell_type": "code",
   "execution_count": null,
   "id": "cc668ee9-1739-43eb-a589-a3ed3a45e005",
   "metadata": {},
   "outputs": [],
   "source": [
    "df['income'].unique()"
   ]
  },
  {
   "cell_type": "code",
   "execution_count": null,
   "id": "aebf8f94-c61b-4bde-804f-d74a828ed801",
   "metadata": {},
   "outputs": [],
   "source": [
    "df['TARGET'] = df['income'].apply(lambda x: 1 if x == '>50K' else 0)"
   ]
  },
  {
   "cell_type": "code",
   "execution_count": null,
   "id": "9bb33573-f1a3-4613-a893-71d35ea86109",
   "metadata": {},
   "outputs": [],
   "source": [
    "df.head(5)"
   ]
  },
  {
   "cell_type": "code",
   "execution_count": null,
   "id": "6f1682d5-d517-45c9-8473-419a889b09e9",
   "metadata": {},
   "outputs": [],
   "source": [
    "df['occupation'].value_counts()"
   ]
  },
  {
   "cell_type": "code",
   "execution_count": null,
   "id": "e6beaaf9-ee9b-4fe7-98d5-a4a89be1d688",
   "metadata": {},
   "outputs": [],
   "source": [
    "df['occupation'] = df['occupation'].replace('?', np.nan)"
   ]
  },
  {
   "cell_type": "markdown",
   "id": "dc55f8dc-7f75-42dc-8784-47415a2e55b9",
   "metadata": {},
   "source": [
    "#  EDA (Exploratory Data Analysis)"
   ]
  },
  {
   "cell_type": "code",
   "execution_count": null,
   "id": "95d93f62-4363-434c-acce-0d9d31c3823c",
   "metadata": {},
   "outputs": [],
   "source": [
    "df['TARGET'].value_counts()"
   ]
  },
  {
   "cell_type": "code",
   "execution_count": null,
   "id": "30f9cffe-4b86-443b-b717-d5a01e75014f",
   "metadata": {},
   "outputs": [],
   "source": [
    "# Income Distribution\n",
    "\n",
    "plt.pie(df['TARGET'].value_counts(), explode=[0,0.1], wedgeprops={'edgecolor':'k', 'width':0.9}, shadow=True, colors=['green', 'yellow'],\n",
    "        autopct='%1.1f%%', startangle=30)\n",
    "plt.legend(loc='upper left', labels=['Below 50', 'Above 50'])\n",
    "plt.show()"
   ]
  },
  {
   "cell_type": "code",
   "execution_count": null,
   "id": "acc16601-0792-427a-8c99-66b1233576bd",
   "metadata": {},
   "outputs": [],
   "source": [
    "df['sex'].value_counts()"
   ]
  },
  {
   "cell_type": "code",
   "execution_count": null,
   "id": "4c54ed91-8ea9-4340-9b80-b5d957717034",
   "metadata": {},
   "outputs": [],
   "source": [
    "# Gender Distribution\n",
    "\n",
    "plt.pie(df['sex'].value_counts(), explode=[0,0.1], wedgeprops={'edgecolor':'k', 'width':0.9}, shadow=True, colors=['red', 'orange'],\n",
    "        autopct='%1.1f%%', startangle=50)\n",
    "plt.legend(loc='upper left', labels=['Male', 'Female'])\n",
    "plt.show()"
   ]
  },
  {
   "cell_type": "code",
   "execution_count": null,
   "id": "41644b79-377e-439b-9aa7-d2bbbb108dda",
   "metadata": {},
   "outputs": [],
   "source": [
    "sns.heatmap(df.corr(numeric_only=True), cmap='coolwarm')\n",
    "plt.show()"
   ]
  },
  {
   "cell_type": "code",
   "execution_count": null,
   "id": "1d90a8c3-c716-42c3-b091-4c133fe9d93e",
   "metadata": {},
   "outputs": [],
   "source": [
    "sns.pairplot(df[['age', 'education.num', 'fnlwgt', 'TARGET']], hue='TARGET')"
   ]
  },
  {
   "cell_type": "code",
   "execution_count": null,
   "id": "2fd97a8b-9df7-49ff-99dc-cf041854bbab",
   "metadata": {},
   "outputs": [],
   "source": [
    "df.head(5)"
   ]
  },
  {
   "cell_type": "code",
   "execution_count": null,
   "id": "b6363717-e113-4e89-bac2-23dfd8a8c480",
   "metadata": {},
   "outputs": [],
   "source": [
    "from sklearn.preprocessing import OneHotEncoder"
   ]
  },
  {
   "cell_type": "code",
   "execution_count": null,
   "id": "64f3189a-aa4f-4682-8b2c-7030e2de0ea7",
   "metadata": {},
   "outputs": [],
   "source": [
    "from sklearn.impute import SimpleImputer"
   ]
  },
  {
   "cell_type": "code",
   "execution_count": null,
   "id": "c826d316-acab-4b91-a449-248fc6f0c79a",
   "metadata": {},
   "outputs": [],
   "source": [
    "ohe = OneHotEncoder(handle_unknown='ignore')"
   ]
  },
  {
   "cell_type": "code",
   "execution_count": null,
   "id": "55a36320-6308-4f19-b33d-cc1230dac53f",
   "metadata": {},
   "outputs": [],
   "source": [
    "sm = SimpleImputer(strategy='most_frequent')"
   ]
  },
  {
   "cell_type": "code",
   "execution_count": null,
   "id": "be898113-eacf-4c32-9284-bf9fd40a66fe",
   "metadata": {},
   "outputs": [],
   "source": [
    "X = df.drop(columns={'education', 'fnlwgt', 'TARGET', 'income'})"
   ]
  },
  {
   "cell_type": "code",
   "execution_count": null,
   "id": "4ee7f518-4904-4be7-9f36-f17b1c5b7a7f",
   "metadata": {},
   "outputs": [],
   "source": [
    "y = df['TARGET']"
   ]
  },
  {
   "cell_type": "markdown",
   "id": "1bbd7c09-0cb4-43a2-9ef1-0f092de740e1",
   "metadata": {},
   "source": [
    "# Data Preprocessing (Pipeline)"
   ]
  },
  {
   "cell_type": "code",
   "execution_count": null,
   "id": "3894b272-4d54-45f8-9c09-314c695bbd69",
   "metadata": {},
   "outputs": [],
   "source": [
    "from sklearn.pipeline import Pipeline "
   ]
  },
  {
   "cell_type": "code",
   "execution_count": null,
   "id": "f9474ac9-cf0b-444f-8fc5-aa2b9047378d",
   "metadata": {},
   "outputs": [],
   "source": [
    "pipeline = Pipeline([\n",
    "    ('imputer', sm),\n",
    "    ('encoder', ohe),\n",
    "])  "
   ]
  },
  {
   "cell_type": "code",
   "execution_count": null,
   "id": "ab5ef70f-b8d4-495f-a967-a8f5c90420a5",
   "metadata": {},
   "outputs": [],
   "source": [
    "from sklearn.compose import make_column_transformer"
   ]
  },
  {
   "cell_type": "code",
   "execution_count": null,
   "id": "3f4a20a3-2fc9-4cbe-830a-a515b9fa6a0b",
   "metadata": {},
   "outputs": [],
   "source": [
    "columns = ['workclass', 'occupation', 'relationship', 'native.country', 'sex', 'race', 'marital.status']"
   ]
  },
  {
   "cell_type": "code",
   "execution_count": null,
   "id": "2949f0c3-de07-434f-86a9-257c25f8dae0",
   "metadata": {},
   "outputs": [],
   "source": [
    "# Column Transformer\n",
    "\n",
    "col_transformer = make_column_transformer(\n",
    "    (pipeline, columns),\n",
    "    remainder='passthrough'\n",
    ")"
   ]
  },
  {
   "cell_type": "code",
   "execution_count": null,
   "id": "2d3f6667-5b91-44e8-8ebf-ba5b69feee53",
   "metadata": {},
   "outputs": [],
   "source": [
    "from sklearn.model_selection import train_test_split"
   ]
  },
  {
   "cell_type": "code",
   "execution_count": null,
   "id": "94925ef5-de41-474b-ba4d-d9483d0f7104",
   "metadata": {},
   "outputs": [],
   "source": [
    "X_train, X_test, y_train, y_test = train_test_split(X, y, random_state=42, test_size=0.3)"
   ]
  },
  {
   "cell_type": "markdown",
   "id": "928df42f-4990-4cb7-a730-835b0a4fdfa3",
   "metadata": {},
   "source": [
    "# Model Setup: LightGBM"
   ]
  },
  {
   "cell_type": "code",
   "execution_count": null,
   "id": "b3005cd5-309f-44cc-a910-84a4a9037aef",
   "metadata": {},
   "outputs": [],
   "source": [
    "from lightgbm import LGBMClassifier"
   ]
  },
  {
   "cell_type": "code",
   "execution_count": null,
   "id": "455fbeae-15ce-4127-940b-de290779480c",
   "metadata": {},
   "outputs": [],
   "source": [
    "lgbm = LGBMClassifier(random_state=42, class_weight='balanced', verbosity=-1)"
   ]
  },
  {
   "cell_type": "code",
   "execution_count": null,
   "id": "57879a33-ba12-4dee-aba0-d166b553323f",
   "metadata": {},
   "outputs": [],
   "source": [
    "from imblearn.over_sampling import SMOTE"
   ]
  },
  {
   "cell_type": "code",
   "execution_count": null,
   "id": "c97ab9d0-2fb7-402b-bba7-cc2639904daf",
   "metadata": {},
   "outputs": [],
   "source": [
    "smt = SMOTE(random_state=42)"
   ]
  },
  {
   "cell_type": "markdown",
   "id": "ad759eb2-66e7-40c4-bfe9-3f4c22ce97b9",
   "metadata": {},
   "source": [
    "# Pipeline + SMOTE"
   ]
  },
  {
   "cell_type": "code",
   "execution_count": null,
   "id": "abaf0d6a-ed5b-4b81-b7ca-082cc7ecd0d0",
   "metadata": {},
   "outputs": [],
   "source": [
    "from imblearn.pipeline import Pipeline as imb_pipe"
   ]
  },
  {
   "cell_type": "code",
   "execution_count": null,
   "id": "67fac9fd-6999-4afe-a459-2500be618b5c",
   "metadata": {},
   "outputs": [],
   "source": [
    "pipe = imb_pipe([\n",
    "    ('preprocessor', col_transformer),\n",
    "    ('smote', smt),\n",
    "    ('classifier', lgbm)\n",
    "])"
   ]
  },
  {
   "cell_type": "code",
   "execution_count": null,
   "id": "c81c60ff-73c6-4e7f-aeba-13d2de3ef45a",
   "metadata": {},
   "outputs": [],
   "source": [
    "from sklearn.model_selection import StratifiedKFold"
   ]
  },
  {
   "cell_type": "code",
   "execution_count": null,
   "id": "5b1030ae-dfd5-4731-bdce-07a075e9b2ff",
   "metadata": {},
   "outputs": [],
   "source": [
    "skf = StratifiedKFold(n_splits=10, shuffle=True, random_state=42)"
   ]
  },
  {
   "cell_type": "markdown",
   "id": "6075aeae-b9aa-459c-becb-91d606d4ad4e",
   "metadata": {},
   "source": [
    "# Model Tuning with GridSearchCV"
   ]
  },
  {
   "cell_type": "code",
   "execution_count": null,
   "id": "e733e074-2417-44b1-a9e1-2211f2b4d864",
   "metadata": {},
   "outputs": [],
   "source": [
    "from sklearn.model_selection import GridSearchCV"
   ]
  },
  {
   "cell_type": "code",
   "execution_count": null,
   "id": "d9f6e279-d84b-450c-a166-1d8d89ea4a98",
   "metadata": {},
   "outputs": [],
   "source": [
    "param_grid = {\n",
    "    'classifier__n_estimators': [50, 100, 200],\n",
    "    'classifier__max_depth': [10, 15, 20],\n",
    "    'classifier__learning_rate': [0.05, 0.1],\n",
    "    'classifier__num_leaves': [30, 40, 50],\n",
    "    'classifier__class_weight': ['balanced'],\n",
    "    'classifier__boosting_type': ['gbdt'],\n",
    "}"
   ]
  },
  {
   "cell_type": "code",
   "execution_count": null,
   "id": "1291eefc-4c7b-487c-a93b-64447716dfa2",
   "metadata": {},
   "outputs": [],
   "source": [
    "GSCV = GridSearchCV(pipe, param_grid, cv=skf, scoring='f1')"
   ]
  },
  {
   "cell_type": "code",
   "execution_count": null,
   "id": "660979d2-63a5-43b2-affd-7acb6ead015d",
   "metadata": {},
   "outputs": [],
   "source": [
    "GSCV.fit(X_train, y_train)"
   ]
  },
  {
   "cell_type": "code",
   "execution_count": null,
   "id": "7e9acbb5-3ae9-4f37-be5e-a31c8f7c77af",
   "metadata": {},
   "outputs": [],
   "source": [
    "GSCV_pre = GSCV.predict(X_test)"
   ]
  },
  {
   "cell_type": "code",
   "execution_count": null,
   "id": "96f40ea9-9c6c-4d7c-82d8-74d624dea7ed",
   "metadata": {},
   "outputs": [],
   "source": [
    "GSCV.best_params_"
   ]
  },
  {
   "cell_type": "markdown",
   "id": "0b9c42bd-b75c-4c46-9c48-e2b38882ae11",
   "metadata": {},
   "source": [
    "# Model Evaluation"
   ]
  },
  {
   "cell_type": "code",
   "execution_count": null,
   "id": "d5132972-0b82-4d42-987a-5faa867d8153",
   "metadata": {},
   "outputs": [],
   "source": [
    "from sklearn.metrics import confusion_matrix, classification_report, accuracy_score"
   ]
  },
  {
   "cell_type": "code",
   "execution_count": null,
   "id": "2e58a1ae-1175-4eb7-af9e-91861575115a",
   "metadata": {},
   "outputs": [],
   "source": [
    "cm = confusion_matrix(GSCV_pre, y_test)"
   ]
  },
  {
   "cell_type": "code",
   "execution_count": null,
   "id": "9167b5db-5d01-49d3-a347-a883aad81ec3",
   "metadata": {},
   "outputs": [],
   "source": [
    "print(cm)"
   ]
  },
  {
   "cell_type": "code",
   "execution_count": null,
   "id": "a493847e-da56-4ca7-aa3b-e218ae95ffe9",
   "metadata": {},
   "outputs": [],
   "source": [
    "asc = accuracy_score(GSCV_pre, y_test)"
   ]
  },
  {
   "cell_type": "code",
   "execution_count": null,
   "id": "57e39e47-d87a-4c4d-a131-f2747d4be7df",
   "metadata": {},
   "outputs": [],
   "source": [
    "print(round(asc, 2))"
   ]
  },
  {
   "cell_type": "code",
   "execution_count": null,
   "id": "a75c7632-0ace-4986-bb44-a69714924199",
   "metadata": {},
   "outputs": [],
   "source": [
    "cr = classification_report(GSCV_pre, y_test)"
   ]
  },
  {
   "cell_type": "code",
   "execution_count": null,
   "id": "05e19b81-f3d2-4361-ac46-e94aee4954c3",
   "metadata": {},
   "outputs": [],
   "source": [
    "print(cr)"
   ]
  },
  {
   "cell_type": "code",
   "execution_count": null,
   "id": "1b4d8056-a284-4cb1-8320-e5a87b65f33d",
   "metadata": {},
   "outputs": [],
   "source": []
  },
  {
   "cell_type": "code",
   "execution_count": null,
   "id": "a0808cd6-bb83-4a12-8094-46deb2a03ae4",
   "metadata": {},
   "outputs": [],
   "source": []
  }
 ],
 "metadata": {
  "kernelspec": {
   "display_name": "Python [conda env:base] *",
   "language": "python",
   "name": "conda-base-py"
  },
  "language_info": {
   "codemirror_mode": {
    "name": "ipython",
    "version": 3
   },
   "file_extension": ".py",
   "mimetype": "text/x-python",
   "name": "python",
   "nbconvert_exporter": "python",
   "pygments_lexer": "ipython3",
   "version": "3.12.7"
  }
 },
 "nbformat": 4,
 "nbformat_minor": 5
}
